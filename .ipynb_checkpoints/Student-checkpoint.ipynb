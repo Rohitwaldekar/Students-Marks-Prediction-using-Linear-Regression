{
 "cells": [
  {
   "cell_type": "markdown",
   "id": "14a9f275",
   "metadata": {},
   "source": [
    "# Student score prediction using Linear Regression"
   ]
  },
  {
   "cell_type": "markdown",
   "id": "4e4f8a77",
   "metadata": {},
   "source": [
    "Linear regression is a linear approach for modelling the relationship between a scalar response and one or more explanatory variables. The case of one explanatory variable is called simple linear regression; for more than one, the process is called multiple linear regression."
   ]
  },
  {
   "cell_type": "markdown",
   "id": "888937b7",
   "metadata": {},
   "source": [
    "Linear Regression is supervised learning algorithm. A supervised learning algorithm takes a known set of input data and known responses to the data (the output), and forms a model to generate reasonable predictions for the new input data."
   ]
  },
  {
   "cell_type": "markdown",
   "id": "d644a1d2",
   "metadata": {},
   "source": [
    "In this notebook we are going to predict student score based on their number of study hours."
   ]
  },
  {
   "cell_type": "markdown",
   "id": "737a4d52-2119-41da-841b-0aab07caa6af",
   "metadata": {},
   "source": [
    "### 1. Importing libraries"
   ]
  },
  {
   "cell_type": "code",
   "execution_count": 191,
   "id": "e711a8a4-761a-418f-beb9-9104ed567635",
   "metadata": {},
   "outputs": [],
   "source": [
    "import numpy as np\n",
    "import pandas as pd\n",
    "import sklearn as sl\n",
    "import matplotlib.pyplot as plt "
   ]
  },
  {
   "cell_type": "markdown",
   "id": "73acf891",
   "metadata": {},
   "source": [
    "a. NumPy is a Python library used for working with arrays also mathematical functions, random number generators, linear algebra routines, Fourier transforms, and more.\n",
    "\n",
    "b. Pandas python library is used for data manipulation and analysis.\n",
    "\n",
    "c. Sklearn is simple and efficient library for predictive data analysis in python.\n",
    "\n",
    "d. Matplotlib is a comprehensive library for creating static, animated, and interactive visualizations in Python."
   ]
  },
  {
   "cell_type": "markdown",
   "id": "f3e850e2",
   "metadata": {},
   "source": [
    "### 2. Reading the data"
   ]
  },
  {
   "cell_type": "code",
   "execution_count": 192,
   "id": "abb1e8c2",
   "metadata": {},
   "outputs": [],
   "source": [
    "data = pd.read_csv(\"http://bit.ly/w-data\")"
   ]
  },
  {
   "cell_type": "markdown",
   "id": "2f251388",
   "metadata": {},
   "source": [
    "Reading data from remote source using above URL. At source our data is in csv file so here we used read_csv() function.\n",
    "\n",
    "Storing data into data Datafram variable.\n",
    "\n",
    "DataFrame is a 2-dimensional labeled data structure with columns of potentially different types."
   ]
  },
  {
   "cell_type": "markdown",
   "id": "3570f0cc",
   "metadata": {},
   "source": [
    "### 3. Diving into the data"
   ]
  },
  {
   "cell_type": "code",
   "execution_count": 193,
   "id": "1ade982b",
   "metadata": {},
   "outputs": [
    {
     "data": {
      "text/html": [
       "<div>\n",
       "<style scoped>\n",
       "    .dataframe tbody tr th:only-of-type {\n",
       "        vertical-align: middle;\n",
       "    }\n",
       "\n",
       "    .dataframe tbody tr th {\n",
       "        vertical-align: top;\n",
       "    }\n",
       "\n",
       "    .dataframe thead th {\n",
       "        text-align: right;\n",
       "    }\n",
       "</style>\n",
       "<table border=\"1\" class=\"dataframe\">\n",
       "  <thead>\n",
       "    <tr style=\"text-align: right;\">\n",
       "      <th></th>\n",
       "      <th>Hours</th>\n",
       "      <th>Scores</th>\n",
       "    </tr>\n",
       "  </thead>\n",
       "  <tbody>\n",
       "    <tr>\n",
       "      <th>0</th>\n",
       "      <td>2.5</td>\n",
       "      <td>21</td>\n",
       "    </tr>\n",
       "    <tr>\n",
       "      <th>1</th>\n",
       "      <td>5.1</td>\n",
       "      <td>47</td>\n",
       "    </tr>\n",
       "    <tr>\n",
       "      <th>2</th>\n",
       "      <td>3.2</td>\n",
       "      <td>27</td>\n",
       "    </tr>\n",
       "    <tr>\n",
       "      <th>3</th>\n",
       "      <td>8.5</td>\n",
       "      <td>75</td>\n",
       "    </tr>\n",
       "    <tr>\n",
       "      <th>4</th>\n",
       "      <td>3.5</td>\n",
       "      <td>30</td>\n",
       "    </tr>\n",
       "  </tbody>\n",
       "</table>\n",
       "</div>"
      ],
      "text/plain": [
       "   Hours  Scores\n",
       "0    2.5      21\n",
       "1    5.1      47\n",
       "2    3.2      27\n",
       "3    8.5      75\n",
       "4    3.5      30"
      ]
     },
     "execution_count": 193,
     "metadata": {},
     "output_type": "execute_result"
    }
   ],
   "source": [
    "data.head()"
   ]
  },
  {
   "cell_type": "markdown",
   "id": "b7377ada",
   "metadata": {},
   "source": [
    "Returns first n rows of Datafram. Default value is 5. You can give any number into head() function."
   ]
  },
  {
   "cell_type": "code",
   "execution_count": 194,
   "id": "ec983226",
   "metadata": {},
   "outputs": [
    {
     "name": "stdout",
     "output_type": "stream",
     "text": [
      "<class 'pandas.core.frame.DataFrame'>\n",
      "RangeIndex: 25 entries, 0 to 24\n",
      "Data columns (total 2 columns):\n",
      " #   Column  Non-Null Count  Dtype  \n",
      "---  ------  --------------  -----  \n",
      " 0   Hours   25 non-null     float64\n",
      " 1   Scores  25 non-null     int64  \n",
      "dtypes: float64(1), int64(1)\n",
      "memory usage: 528.0 bytes\n"
     ]
    }
   ],
   "source": [
    "data.info()"
   ]
  },
  {
   "cell_type": "markdown",
   "id": "95088b28",
   "metadata": {},
   "source": [
    "Print a concise summary of a Dataframe."
   ]
  },
  {
   "cell_type": "code",
   "execution_count": 195,
   "id": "13e99765",
   "metadata": {},
   "outputs": [
    {
     "data": {
      "text/html": [
       "<div>\n",
       "<style scoped>\n",
       "    .dataframe tbody tr th:only-of-type {\n",
       "        vertical-align: middle;\n",
       "    }\n",
       "\n",
       "    .dataframe tbody tr th {\n",
       "        vertical-align: top;\n",
       "    }\n",
       "\n",
       "    .dataframe thead th {\n",
       "        text-align: right;\n",
       "    }\n",
       "</style>\n",
       "<table border=\"1\" class=\"dataframe\">\n",
       "  <thead>\n",
       "    <tr style=\"text-align: right;\">\n",
       "      <th></th>\n",
       "      <th>Hours</th>\n",
       "      <th>Scores</th>\n",
       "    </tr>\n",
       "  </thead>\n",
       "  <tbody>\n",
       "    <tr>\n",
       "      <th>count</th>\n",
       "      <td>25.000000</td>\n",
       "      <td>25.000000</td>\n",
       "    </tr>\n",
       "    <tr>\n",
       "      <th>mean</th>\n",
       "      <td>5.012000</td>\n",
       "      <td>51.480000</td>\n",
       "    </tr>\n",
       "    <tr>\n",
       "      <th>std</th>\n",
       "      <td>2.525094</td>\n",
       "      <td>25.286887</td>\n",
       "    </tr>\n",
       "    <tr>\n",
       "      <th>min</th>\n",
       "      <td>1.100000</td>\n",
       "      <td>17.000000</td>\n",
       "    </tr>\n",
       "    <tr>\n",
       "      <th>25%</th>\n",
       "      <td>2.700000</td>\n",
       "      <td>30.000000</td>\n",
       "    </tr>\n",
       "    <tr>\n",
       "      <th>50%</th>\n",
       "      <td>4.800000</td>\n",
       "      <td>47.000000</td>\n",
       "    </tr>\n",
       "    <tr>\n",
       "      <th>75%</th>\n",
       "      <td>7.400000</td>\n",
       "      <td>75.000000</td>\n",
       "    </tr>\n",
       "    <tr>\n",
       "      <th>max</th>\n",
       "      <td>9.200000</td>\n",
       "      <td>95.000000</td>\n",
       "    </tr>\n",
       "  </tbody>\n",
       "</table>\n",
       "</div>"
      ],
      "text/plain": [
       "           Hours     Scores\n",
       "count  25.000000  25.000000\n",
       "mean    5.012000  51.480000\n",
       "std     2.525094  25.286887\n",
       "min     1.100000  17.000000\n",
       "25%     2.700000  30.000000\n",
       "50%     4.800000  47.000000\n",
       "75%     7.400000  75.000000\n",
       "max     9.200000  95.000000"
      ]
     },
     "execution_count": 195,
     "metadata": {},
     "output_type": "execute_result"
    }
   ],
   "source": [
    "data.describe(include='all')"
   ]
  },
  {
   "cell_type": "markdown",
   "id": "95ed2aac",
   "metadata": {},
   "source": [
    "Returns descriptive statistics. Default value for decribe() function is numeric."
   ]
  },
  {
   "cell_type": "markdown",
   "id": "3a75eadf",
   "metadata": {},
   "source": [
    "### 4. Visualising the Data"
   ]
  },
  {
   "cell_type": "code",
   "execution_count": 196,
   "id": "22092f32",
   "metadata": {},
   "outputs": [
    {
     "data": {
      "image/png": "[encoded data removed]",
      "text/plain": [
       "<Figure size 432x288 with 1 Axes>"
      ]
     },
     "metadata": {
      "needs_background": "light"
     },
     "output_type": "display_data"
    }
   ],
   "source": [
    "data.plot(x='Hours',y='Scores',style='o')\n",
    "plt.title('Hours vs Percentage')\n",
    "plt.xlabel('Study hours')\n",
    "plt.ylabel('Percentages')\n",
    "plt.show()"
   ]
  },
  {
   "cell_type": "markdown",
   "id": "a6ab2fdf",
   "metadata": {},
   "source": [
    "Plotting study hours vs percentages using matplotlib plot. Above plot shows linear relationship between number of study hours and percenages. When number of study hours increased, percentages got increased."
   ]
  },
  {
   "cell_type": "markdown",
   "id": "aead7f78",
   "metadata": {},
   "source": [
    "### 5. Preparing the data"
   ]
  },
  {
   "cell_type": "code",
   "execution_count": 197,
   "id": "083f912e",
   "metadata": {},
   "outputs": [],
   "source": [
    "X = data.iloc[:,:-1]\n",
    "Y = data.iloc[:,-1]"
   ]
  },
  {
   "cell_type": "markdown",
   "id": "7974eb77",
   "metadata": {},
   "source": [
    "Splitting data into inpute(X) and output(Y) variables."
   ]
  },
  {
   "cell_type": "code",
   "execution_count": 198,
   "id": "0ba06996",
   "metadata": {},
   "outputs": [],
   "source": [
    "x_train, x_test, y_train, y_test = sl.model_selection.train_test_split(X, Y, test_size=0.2, random_state=0) "
   ]
  },
  {
   "cell_type": "markdown",
   "id": "1c4b4768",
   "metadata": {},
   "source": [
    "Here we are splitting data into taining and testing data using train_test_split() function from sklearn library."
   ]
  },
  {
   "cell_type": "markdown",
   "id": "885f2215",
   "metadata": {},
   "source": [
    "### 6. Training the algorithm"
   ]
  },
  {
   "cell_type": "code",
   "execution_count": 199,
   "id": "7884f528",
   "metadata": {},
   "outputs": [
    {
     "data": {
      "text/plain": [
       "LinearRegression()"
      ]
     },
     "execution_count": 199,
     "metadata": {},
     "output_type": "execute_result"
    }
   ],
   "source": [
    "reg = sl.linear_model.LinearRegression()\n",
    "reg.fit(x_train.values,y_train.values)"
   ]
  },
  {
   "cell_type": "markdown",
   "id": "91b0f0b3",
   "metadata": {},
   "source": [
    "Accessing linear ligression model from sklearn library. fit() function is used to train model by passing training data variables."
   ]
  },
  {
   "cell_type": "markdown",
   "id": "ebacf271",
   "metadata": {},
   "source": [
    "### 7. Plotting regression line"
   ]
  },
  {
   "cell_type": "code",
   "execution_count": 200,
   "id": "25ee0e46",
   "metadata": {},
   "outputs": [
    {
     "data": {
      "image/png": "[encoded data removed]",
      "text/plain": [
       "<Figure size 432x288 with 1 Axes>"
      ]
     },
     "metadata": {
      "needs_background": "light"
     },
     "output_type": "display_data"
    }
   ],
   "source": [
    "line = reg.coef_*X+reg.intercept_\n",
    "\n",
    "plt.scatter(X,Y)\n",
    "plt.plot(X,line)\n",
    "\n",
    "plt.title('Hours vs Percentage')\n",
    "plt.xlabel('Study hours')\n",
    "plt.ylabel('Percentages')\n",
    "plt.show()"
   ]
  },
  {
   "cell_type": "markdown",
   "id": "e88e2589",
   "metadata": {},
   "source": [
    "\"line = reg.coef_*X+reg.intercept_\" this line is equivalent to \"y = mx + b\" (Simple linear regression).\n",
    "\n",
    "Above plot showing linear regression line."
   ]
  },
  {
   "cell_type": "markdown",
   "id": "f0e1c92b",
   "metadata": {},
   "source": [
    "### 8. Making prediction"
   ]
  },
  {
   "cell_type": "code",
   "execution_count": 201,
   "id": "cfbcdc77",
   "metadata": {},
   "outputs": [
    {
     "name": "stdout",
     "output_type": "stream",
     "text": [
      "    Actual  Predicted\n",
      "5       20  16.884145\n",
      "2       27  33.732261\n",
      "19      69  75.357018\n",
      "16      30  26.794801\n",
      "11      62  60.491033\n"
     ]
    }
   ],
   "source": [
    "y_pred = reg.predict(x_test.values)\n",
    "\n",
    "df = pd.DataFrame({'Actual':y_test,'Predicted':y_pred})\n",
    "print(df)"
   ]
  },
  {
   "cell_type": "markdown",
   "id": "2400a4e0",
   "metadata": {},
   "source": [
    "Here we can see Actual expected output and Predicted output for given data (y_test)."
   ]
  },
  {
   "cell_type": "code",
   "execution_count": 205,
   "id": "d7927ee3",
   "metadata": {},
   "outputs": [
    {
     "name": "stdout",
     "output_type": "stream",
     "text": [
      "Percentage for 9.25 hr/day are 93.69173248737535.\n"
     ]
    }
   ],
   "source": [
    "print(\"Percentage for 9.25 hr/day are {}.\".format(reg.predict(pd.DataFrame([9.25]))[0]))"
   ]
  },
  {
   "cell_type": "code",
   "execution_count": 202,
   "id": "7a687241",
   "metadata": {},
   "outputs": [
    {
     "name": "stdout",
     "output_type": "stream",
     "text": [
      "Number of Study hours: 9.25\n",
      "Predicted Percentage:  93.69173248737535\n"
     ]
    }
   ],
   "source": [
    "hr = pd.DataFrame([float(input(\"Number of Study hours: \"))])\n",
    "print(\"Predicted Percentage: \", reg.predict(hr.values)[0])"
   ]
  },
  {
   "cell_type": "markdown",
   "id": "f2a0cdfc",
   "metadata": {},
   "source": [
    "### 9. Model evaluation"
   ]
  },
  {
   "cell_type": "code",
   "execution_count": 203,
   "id": "6e38a42f",
   "metadata": {},
   "outputs": [
    {
     "name": "stdout",
     "output_type": "stream",
     "text": [
      "Absolute Mean Error: 4.183859899002975\n"
     ]
    }
   ],
   "source": [
    "print(\"Absolute Mean Error: {}\".format(sl.metrics.mean_absolute_error(y_test,y_pred)))"
   ]
  },
  {
   "cell_type": "markdown",
   "id": "52ae4188",
   "metadata": {},
   "source": [
    "Model evaluation is most important step to evalute performance of algorithm and how well predicting output. Here we used mean_absolute_error() metric. There are multiple metrics to evaluate model."
   ]
  },
  {
   "cell_type": "code",
   "execution_count": null,
   "id": "04d01b50",
   "metadata": {},
   "outputs": [],
   "source": []
  }
 ],
 "metadata": {
  "kernelspec": {
   "display_name": "Python 3 (ipykernel)",
   "language": "python",
   "name": "python3"
  },
  "language_info": {
   "codemirror_mode": {
    "name": "ipython",
    "version": 3
   },
   "file_extension": ".py",
   "mimetype": "text/x-python",
   "name": "python",
   "nbconvert_exporter": "python",
   "pygments_lexer": "ipython3",
   "version": "3.9.7"
  }
 },
 "nbformat": 4,
 "nbformat_minor": 5
}
